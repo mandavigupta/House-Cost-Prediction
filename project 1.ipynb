{
 "cells": [
  {
   "cell_type": "code",
   "execution_count": 10,
   "id": "f21e86e9-57cb-44f4-9d6d-10ad494811c6",
   "metadata": {},
   "outputs": [
    {
     "data": {
      "text/html": [
       "<div>\n",
       "<style scoped>\n",
       "    .dataframe tbody tr th:only-of-type {\n",
       "        vertical-align: middle;\n",
       "    }\n",
       "\n",
       "    .dataframe tbody tr th {\n",
       "        vertical-align: top;\n",
       "    }\n",
       "\n",
       "    .dataframe thead th {\n",
       "        text-align: right;\n",
       "    }\n",
       "</style>\n",
       "<table border=\"1\" class=\"dataframe\">\n",
       "  <thead>\n",
       "    <tr style=\"text-align: right;\">\n",
       "      <th></th>\n",
       "      <th>price</th>\n",
       "      <th>sqft_living</th>\n",
       "      <th>bedrooms</th>\n",
       "      <th>bathrooms</th>\n",
       "      <th>flooors</th>\n",
       "    </tr>\n",
       "  </thead>\n",
       "  <tbody>\n",
       "    <tr>\n",
       "      <th>0</th>\n",
       "      <td>221900.0</td>\n",
       "      <td>1180</td>\n",
       "      <td>3</td>\n",
       "      <td>1.00</td>\n",
       "      <td>2.0</td>\n",
       "    </tr>\n",
       "    <tr>\n",
       "      <th>1</th>\n",
       "      <td>538000.0</td>\n",
       "      <td>2570</td>\n",
       "      <td>3</td>\n",
       "      <td>2.25</td>\n",
       "      <td>1.0</td>\n",
       "    </tr>\n",
       "    <tr>\n",
       "      <th>2</th>\n",
       "      <td>180000.0</td>\n",
       "      <td>770</td>\n",
       "      <td>2</td>\n",
       "      <td>1.00</td>\n",
       "      <td>1.0</td>\n",
       "    </tr>\n",
       "    <tr>\n",
       "      <th>3</th>\n",
       "      <td>604000.0</td>\n",
       "      <td>1960</td>\n",
       "      <td>4</td>\n",
       "      <td>3.00</td>\n",
       "      <td>1.0</td>\n",
       "    </tr>\n",
       "    <tr>\n",
       "      <th>4</th>\n",
       "      <td>510000.0</td>\n",
       "      <td>1680</td>\n",
       "      <td>3</td>\n",
       "      <td>2.00</td>\n",
       "      <td>1.0</td>\n",
       "    </tr>\n",
       "    <tr>\n",
       "      <th>...</th>\n",
       "      <td>...</td>\n",
       "      <td>...</td>\n",
       "      <td>...</td>\n",
       "      <td>...</td>\n",
       "      <td>...</td>\n",
       "    </tr>\n",
       "    <tr>\n",
       "      <th>567</th>\n",
       "      <td>671500.0</td>\n",
       "      <td>2160</td>\n",
       "      <td>5</td>\n",
       "      <td>2.75</td>\n",
       "      <td>1.5</td>\n",
       "    </tr>\n",
       "    <tr>\n",
       "      <th>568</th>\n",
       "      <td>610000.0</td>\n",
       "      <td>1180</td>\n",
       "      <td>3</td>\n",
       "      <td>1.00</td>\n",
       "      <td>1.0</td>\n",
       "    </tr>\n",
       "    <tr>\n",
       "      <th>569</th>\n",
       "      <td>405000.0</td>\n",
       "      <td>1160</td>\n",
       "      <td>2</td>\n",
       "      <td>0.75</td>\n",
       "      <td>2.0</td>\n",
       "    </tr>\n",
       "    <tr>\n",
       "      <th>570</th>\n",
       "      <td>338900.0</td>\n",
       "      <td>1830</td>\n",
       "      <td>4</td>\n",
       "      <td>2.50</td>\n",
       "      <td>2.0</td>\n",
       "    </tr>\n",
       "    <tr>\n",
       "      <th>571</th>\n",
       "      <td>720000.0</td>\n",
       "      <td>3200</td>\n",
       "      <td>4</td>\n",
       "      <td>4.00</td>\n",
       "      <td>1.5</td>\n",
       "    </tr>\n",
       "  </tbody>\n",
       "</table>\n",
       "<p>572 rows × 5 columns</p>\n",
       "</div>"
      ],
      "text/plain": [
       "        price  sqft_living  bedrooms  bathrooms  flooors\n",
       "0    221900.0         1180         3       1.00      2.0\n",
       "1    538000.0         2570         3       2.25      1.0\n",
       "2    180000.0          770         2       1.00      1.0\n",
       "3    604000.0         1960         4       3.00      1.0\n",
       "4    510000.0         1680         3       2.00      1.0\n",
       "..        ...          ...       ...        ...      ...\n",
       "567  671500.0         2160         5       2.75      1.5\n",
       "568  610000.0         1180         3       1.00      1.0\n",
       "569  405000.0         1160         2       0.75      2.0\n",
       "570  338900.0         1830         4       2.50      2.0\n",
       "571  720000.0         3200         4       4.00      1.5\n",
       "\n",
       "[572 rows x 5 columns]"
      ]
     },
     "execution_count": 10,
     "metadata": {},
     "output_type": "execute_result"
    }
   ],
   "source": [
    "import pandas as pd\n",
    "data=pd.read_csv(\"C://Users//KIIT//Desktop//mul_predictive_analysis.csv\")\n",
    "data"
   ]
  },
  {
   "cell_type": "code",
   "execution_count": 11,
   "id": "51b9c7b7-d57c-4dd6-9c1a-4868e56f8382",
   "metadata": {},
   "outputs": [
    {
     "data": {
      "text/plain": [
       "(572, 5)"
      ]
     },
     "execution_count": 11,
     "metadata": {},
     "output_type": "execute_result"
    }
   ],
   "source": [
    "y=data.price\n",
    "x=data[['sqft_living','bedrooms','bathrooms','flooors']]\n",
    "data.shape"
   ]
  },
  {
   "cell_type": "code",
   "execution_count": 12,
   "id": "ad4bca2f-42e8-47e4-bcb4-77e4b577fd65",
   "metadata": {},
   "outputs": [
    {
     "data": {
      "text/html": [
       "<div>\n",
       "<style scoped>\n",
       "    .dataframe tbody tr th:only-of-type {\n",
       "        vertical-align: middle;\n",
       "    }\n",
       "\n",
       "    .dataframe tbody tr th {\n",
       "        vertical-align: top;\n",
       "    }\n",
       "\n",
       "    .dataframe thead th {\n",
       "        text-align: right;\n",
       "    }\n",
       "</style>\n",
       "<table border=\"1\" class=\"dataframe\">\n",
       "  <thead>\n",
       "    <tr style=\"text-align: right;\">\n",
       "      <th></th>\n",
       "      <th>price</th>\n",
       "      <th>sqft_living</th>\n",
       "      <th>bedrooms</th>\n",
       "      <th>bathrooms</th>\n",
       "      <th>flooors</th>\n",
       "    </tr>\n",
       "  </thead>\n",
       "  <tbody>\n",
       "    <tr>\n",
       "      <th>price</th>\n",
       "      <td>1.000000</td>\n",
       "      <td>0.718698</td>\n",
       "      <td>0.342519</td>\n",
       "      <td>0.517148</td>\n",
       "      <td>0.046091</td>\n",
       "    </tr>\n",
       "    <tr>\n",
       "      <th>sqft_living</th>\n",
       "      <td>0.718698</td>\n",
       "      <td>1.000000</td>\n",
       "      <td>0.580489</td>\n",
       "      <td>0.750811</td>\n",
       "      <td>0.065390</td>\n",
       "    </tr>\n",
       "    <tr>\n",
       "      <th>bedrooms</th>\n",
       "      <td>0.342519</td>\n",
       "      <td>0.580489</td>\n",
       "      <td>1.000000</td>\n",
       "      <td>0.503037</td>\n",
       "      <td>-0.021199</td>\n",
       "    </tr>\n",
       "    <tr>\n",
       "      <th>bathrooms</th>\n",
       "      <td>0.517148</td>\n",
       "      <td>0.750811</td>\n",
       "      <td>0.503037</td>\n",
       "      <td>1.000000</td>\n",
       "      <td>0.072259</td>\n",
       "    </tr>\n",
       "    <tr>\n",
       "      <th>flooors</th>\n",
       "      <td>0.046091</td>\n",
       "      <td>0.065390</td>\n",
       "      <td>-0.021199</td>\n",
       "      <td>0.072259</td>\n",
       "      <td>1.000000</td>\n",
       "    </tr>\n",
       "  </tbody>\n",
       "</table>\n",
       "</div>"
      ],
      "text/plain": [
       "                price  sqft_living  bedrooms  bathrooms   flooors\n",
       "price        1.000000     0.718698  0.342519   0.517148  0.046091\n",
       "sqft_living  0.718698     1.000000  0.580489   0.750811  0.065390\n",
       "bedrooms     0.342519     0.580489  1.000000   0.503037 -0.021199\n",
       "bathrooms    0.517148     0.750811  0.503037   1.000000  0.072259\n",
       "flooors      0.046091     0.065390 -0.021199   0.072259  1.000000"
      ]
     },
     "execution_count": 12,
     "metadata": {},
     "output_type": "execute_result"
    }
   ],
   "source": [
    "data.corr()# only in two variable "
   ]
  },
  {
   "cell_type": "code",
   "execution_count": 13,
   "id": "91dd16aa-2f6c-4291-87ac-9a7b54ec23ff",
   "metadata": {
    "scrolled": true
   },
   "outputs": [
    {
     "data": {
      "text/html": [
       "<div>\n",
       "<style scoped>\n",
       "    .dataframe tbody tr th:only-of-type {\n",
       "        vertical-align: middle;\n",
       "    }\n",
       "\n",
       "    .dataframe tbody tr th {\n",
       "        vertical-align: top;\n",
       "    }\n",
       "\n",
       "    .dataframe thead th {\n",
       "        text-align: right;\n",
       "    }\n",
       "</style>\n",
       "<table border=\"1\" class=\"dataframe\">\n",
       "  <thead>\n",
       "    <tr style=\"text-align: right;\">\n",
       "      <th></th>\n",
       "      <th>sqft_living</th>\n",
       "      <th>bedrooms</th>\n",
       "      <th>bathrooms</th>\n",
       "    </tr>\n",
       "  </thead>\n",
       "  <tbody>\n",
       "    <tr>\n",
       "      <th>count</th>\n",
       "      <td>572.000000</td>\n",
       "      <td>572.000000</td>\n",
       "      <td>572.000000</td>\n",
       "    </tr>\n",
       "    <tr>\n",
       "      <th>mean</th>\n",
       "      <td>2115.681818</td>\n",
       "      <td>3.372378</td>\n",
       "      <td>2.077797</td>\n",
       "    </tr>\n",
       "    <tr>\n",
       "      <th>std</th>\n",
       "      <td>944.972810</td>\n",
       "      <td>0.865452</td>\n",
       "      <td>0.748949</td>\n",
       "    </tr>\n",
       "    <tr>\n",
       "      <th>min</th>\n",
       "      <td>430.000000</td>\n",
       "      <td>1.000000</td>\n",
       "      <td>0.750000</td>\n",
       "    </tr>\n",
       "    <tr>\n",
       "      <th>25%</th>\n",
       "      <td>1427.500000</td>\n",
       "      <td>3.000000</td>\n",
       "      <td>1.500000</td>\n",
       "    </tr>\n",
       "    <tr>\n",
       "      <th>50%</th>\n",
       "      <td>1970.000000</td>\n",
       "      <td>3.000000</td>\n",
       "      <td>2.250000</td>\n",
       "    </tr>\n",
       "    <tr>\n",
       "      <th>75%</th>\n",
       "      <td>2550.000000</td>\n",
       "      <td>4.000000</td>\n",
       "      <td>2.500000</td>\n",
       "    </tr>\n",
       "    <tr>\n",
       "      <th>max</th>\n",
       "      <td>6070.000000</td>\n",
       "      <td>7.000000</td>\n",
       "      <td>5.000000</td>\n",
       "    </tr>\n",
       "  </tbody>\n",
       "</table>\n",
       "</div>"
      ],
      "text/plain": [
       "       sqft_living    bedrooms   bathrooms\n",
       "count   572.000000  572.000000  572.000000\n",
       "mean   2115.681818    3.372378    2.077797\n",
       "std     944.972810    0.865452    0.748949\n",
       "min     430.000000    1.000000    0.750000\n",
       "25%    1427.500000    3.000000    1.500000\n",
       "50%    1970.000000    3.000000    2.250000\n",
       "75%    2550.000000    4.000000    2.500000\n",
       "max    6070.000000    7.000000    5.000000"
      ]
     },
     "execution_count": 13,
     "metadata": {},
     "output_type": "execute_result"
    }
   ],
   "source": [
    "new_feature=data[['sqft_living','bedrooms','bathrooms']]\n",
    "new_feature.describe()"
   ]
  },
  {
   "cell_type": "code",
   "execution_count": 15,
   "id": "86ae1448-2b10-4627-8b63-f58bc73327ea",
   "metadata": {},
   "outputs": [
    {
     "data": {
      "text/html": [
       "<table class=\"simpletable\">\n",
       "<caption>OLS Regression Results</caption>\n",
       "<tr>\n",
       "  <th>Dep. Variable:</th>          <td>price</td>      <th>  R-squared:         </th> <td>   0.525</td> \n",
       "</tr>\n",
       "<tr>\n",
       "  <th>Model:</th>                   <td>OLS</td>       <th>  Adj. R-squared:    </th> <td>   0.523</td> \n",
       "</tr>\n",
       "<tr>\n",
       "  <th>Method:</th>             <td>Least Squares</td>  <th>  F-statistic:       </th> <td>   209.6</td> \n",
       "</tr>\n",
       "<tr>\n",
       "  <th>Date:</th>             <td>Thu, 27 Jun 2024</td> <th>  Prob (F-statistic):</th> <td>1.60e-91</td> \n",
       "</tr>\n",
       "<tr>\n",
       "  <th>Time:</th>                 <td>16:31:43</td>     <th>  Log-Likelihood:    </th> <td> -7921.9</td> \n",
       "</tr>\n",
       "<tr>\n",
       "  <th>No. Observations:</th>      <td>   572</td>      <th>  AIC:               </th> <td>1.585e+04</td>\n",
       "</tr>\n",
       "<tr>\n",
       "  <th>Df Residuals:</th>          <td>   568</td>      <th>  BIC:               </th> <td>1.587e+04</td>\n",
       "</tr>\n",
       "<tr>\n",
       "  <th>Df Model:</th>              <td>     3</td>      <th>                     </th>     <td> </td>    \n",
       "</tr>\n",
       "<tr>\n",
       "  <th>Covariance Type:</th>      <td>nonrobust</td>    <th>                     </th>     <td> </td>    \n",
       "</tr>\n",
       "</table>\n",
       "<table class=\"simpletable\">\n",
       "<tr>\n",
       "       <td></td>          <th>coef</th>     <th>std err</th>      <th>t</th>      <th>P>|t|</th>  <th>[0.025</th>    <th>0.975]</th>  \n",
       "</tr>\n",
       "<tr>\n",
       "  <th>const</th>       <td> 6.653e+04</td> <td> 4.43e+04</td> <td>    1.500</td> <td> 0.134</td> <td>-2.06e+04</td> <td> 1.54e+05</td>\n",
       "</tr>\n",
       "<tr>\n",
       "  <th>sqft_living</th> <td>  311.0385</td> <td>   18.020</td> <td>   17.261</td> <td> 0.000</td> <td>  275.645</td> <td>  346.432</td>\n",
       "</tr>\n",
       "<tr>\n",
       "  <th>bedrooms</th>    <td>-4.586e+04</td> <td>  1.5e+04</td> <td>   -3.050</td> <td> 0.002</td> <td>-7.54e+04</td> <td>-1.63e+04</td>\n",
       "</tr>\n",
       "<tr>\n",
       "  <th>bathrooms</th>   <td>-1.684e+04</td> <td> 2.14e+04</td> <td>   -0.786</td> <td> 0.432</td> <td>-5.89e+04</td> <td> 2.52e+04</td>\n",
       "</tr>\n",
       "</table>\n",
       "<table class=\"simpletable\">\n",
       "<tr>\n",
       "  <th>Omnibus:</th>       <td>330.333</td> <th>  Durbin-Watson:     </th> <td>   2.103</td>\n",
       "</tr>\n",
       "<tr>\n",
       "  <th>Prob(Omnibus):</th> <td> 0.000</td>  <th>  Jarque-Bera (JB):  </th> <td>3957.229</td>\n",
       "</tr>\n",
       "<tr>\n",
       "  <th>Skew:</th>          <td> 2.312</td>  <th>  Prob(JB):          </th> <td>    0.00</td>\n",
       "</tr>\n",
       "<tr>\n",
       "  <th>Kurtosis:</th>      <td>15.027</td>  <th>  Cond. No.          </th> <td>1.02e+04</td>\n",
       "</tr>\n",
       "</table><br/><br/>Notes:<br/>[1] Standard Errors assume that the covariance matrix of the errors is correctly specified.<br/>[2] The condition number is large, 1.02e+04. This might indicate that there are<br/>strong multicollinearity or other numerical problems."
      ],
      "text/latex": [
       "\\begin{center}\n",
       "\\begin{tabular}{lclc}\n",
       "\\toprule\n",
       "\\textbf{Dep. Variable:}    &      price       & \\textbf{  R-squared:         } &     0.525   \\\\\n",
       "\\textbf{Model:}            &       OLS        & \\textbf{  Adj. R-squared:    } &     0.523   \\\\\n",
       "\\textbf{Method:}           &  Least Squares   & \\textbf{  F-statistic:       } &     209.6   \\\\\n",
       "\\textbf{Date:}             & Thu, 27 Jun 2024 & \\textbf{  Prob (F-statistic):} &  1.60e-91   \\\\\n",
       "\\textbf{Time:}             &     16:31:43     & \\textbf{  Log-Likelihood:    } &   -7921.9   \\\\\n",
       "\\textbf{No. Observations:} &         572      & \\textbf{  AIC:               } & 1.585e+04   \\\\\n",
       "\\textbf{Df Residuals:}     &         568      & \\textbf{  BIC:               } & 1.587e+04   \\\\\n",
       "\\textbf{Df Model:}         &           3      & \\textbf{                     } &             \\\\\n",
       "\\textbf{Covariance Type:}  &    nonrobust     & \\textbf{                     } &             \\\\\n",
       "\\bottomrule\n",
       "\\end{tabular}\n",
       "\\begin{tabular}{lcccccc}\n",
       "                      & \\textbf{coef} & \\textbf{std err} & \\textbf{t} & \\textbf{P$> |$t$|$} & \\textbf{[0.025} & \\textbf{0.975]}  \\\\\n",
       "\\midrule\n",
       "\\textbf{const}        &    6.653e+04  &     4.43e+04     &     1.500  &         0.134        &    -2.06e+04    &     1.54e+05     \\\\\n",
       "\\textbf{sqft\\_living} &     311.0385  &       18.020     &    17.261  &         0.000        &      275.645    &      346.432     \\\\\n",
       "\\textbf{bedrooms}     &   -4.586e+04  &      1.5e+04     &    -3.050  &         0.002        &    -7.54e+04    &    -1.63e+04     \\\\\n",
       "\\textbf{bathrooms}    &   -1.684e+04  &     2.14e+04     &    -0.786  &         0.432        &    -5.89e+04    &     2.52e+04     \\\\\n",
       "\\bottomrule\n",
       "\\end{tabular}\n",
       "\\begin{tabular}{lclc}\n",
       "\\textbf{Omnibus:}       & 330.333 & \\textbf{  Durbin-Watson:     } &    2.103  \\\\\n",
       "\\textbf{Prob(Omnibus):} &   0.000 & \\textbf{  Jarque-Bera (JB):  } & 3957.229  \\\\\n",
       "\\textbf{Skew:}          &   2.312 & \\textbf{  Prob(JB):          } &     0.00  \\\\\n",
       "\\textbf{Kurtosis:}      &  15.027 & \\textbf{  Cond. No.          } & 1.02e+04  \\\\\n",
       "\\bottomrule\n",
       "\\end{tabular}\n",
       "%\\caption{OLS Regression Results}\n",
       "\\end{center}\n",
       "\n",
       "Notes: \\newline\n",
       " [1] Standard Errors assume that the covariance matrix of the errors is correctly specified. \\newline\n",
       " [2] The condition number is large, 1.02e+04. This might indicate that there are \\newline\n",
       " strong multicollinearity or other numerical problems."
      ],
      "text/plain": [
       "<class 'statsmodels.iolib.summary.Summary'>\n",
       "\"\"\"\n",
       "                            OLS Regression Results                            \n",
       "==============================================================================\n",
       "Dep. Variable:                  price   R-squared:                       0.525\n",
       "Model:                            OLS   Adj. R-squared:                  0.523\n",
       "Method:                 Least Squares   F-statistic:                     209.6\n",
       "Date:                Thu, 27 Jun 2024   Prob (F-statistic):           1.60e-91\n",
       "Time:                        16:31:43   Log-Likelihood:                -7921.9\n",
       "No. Observations:                 572   AIC:                         1.585e+04\n",
       "Df Residuals:                     568   BIC:                         1.587e+04\n",
       "Df Model:                           3                                         \n",
       "Covariance Type:            nonrobust                                         \n",
       "===============================================================================\n",
       "                  coef    std err          t      P>|t|      [0.025      0.975]\n",
       "-------------------------------------------------------------------------------\n",
       "const        6.653e+04   4.43e+04      1.500      0.134   -2.06e+04    1.54e+05\n",
       "sqft_living   311.0385     18.020     17.261      0.000     275.645     346.432\n",
       "bedrooms    -4.586e+04    1.5e+04     -3.050      0.002   -7.54e+04   -1.63e+04\n",
       "bathrooms   -1.684e+04   2.14e+04     -0.786      0.432   -5.89e+04    2.52e+04\n",
       "==============================================================================\n",
       "Omnibus:                      330.333   Durbin-Watson:                   2.103\n",
       "Prob(Omnibus):                  0.000   Jarque-Bera (JB):             3957.229\n",
       "Skew:                           2.312   Prob(JB):                         0.00\n",
       "Kurtosis:                      15.027   Cond. No.                     1.02e+04\n",
       "==============================================================================\n",
       "\n",
       "Notes:\n",
       "[1] Standard Errors assume that the covariance matrix of the errors is correctly specified.\n",
       "[2] The condition number is large, 1.02e+04. This might indicate that there are\n",
       "strong multicollinearity or other numerical problems.\n",
       "\"\"\""
      ]
     },
     "execution_count": 15,
     "metadata": {},
     "output_type": "execute_result"
    }
   ],
   "source": [
    "#ols=ordinary least square\n",
    "#p=level of significant\n",
    "x1=new_feature\n",
    "import statsmodels.api as sm\n",
    "x2=sm.add_constant(x1)\n",
    "model=sm.OLS(y,x2).fit()#fit-final values\n",
    "model.summary()"
   ]
  },
  {
   "cell_type": "code",
   "execution_count": 12,
   "id": "7895172b-c60e-4d02-8fa0-7fb044b75b4b",
   "metadata": {},
   "outputs": [
    {
     "data": {
      "text/plain": [
       "(0.5804885508091232, 7.871566618822501e-53)"
      ]
     },
     "execution_count": 12,
     "metadata": {},
     "output_type": "execute_result"
    }
   ],
   "source": [
    "from scipy.stats import pearsonr\n",
    "stats,ps=pearsonr(data.sqft_living,data.bedrooms)\n",
    "stats,ps\n",
    "#correlations hai bs dusra tarika hai ye first value correlation wali hai and second p value hai (level of significan)"
   ]
  },
  {
   "cell_type": "code",
   "execution_count": 13,
   "id": "7a137fa7-a1d6-488c-acaa-442b33ff439b",
   "metadata": {},
   "outputs": [
    {
     "data": {
      "text/plain": [
       "(0.7508110081780366, 9.585406141558372e-105)"
      ]
     },
     "execution_count": 13,
     "metadata": {},
     "output_type": "execute_result"
    }
   ],
   "source": [
    "stats,ps=pearsonr(data.sqft_living,data.bathrooms)\n",
    "stats,ps"
   ]
  },
  {
   "cell_type": "code",
   "execution_count": 20,
   "id": "7dff7b58-5945-4c1e-822f-c3b6a72d07bf",
   "metadata": {},
   "outputs": [
    {
     "data": {
      "text/html": [
       "<div>\n",
       "<style scoped>\n",
       "    .dataframe tbody tr th:only-of-type {\n",
       "        vertical-align: middle;\n",
       "    }\n",
       "\n",
       "    .dataframe tbody tr th {\n",
       "        vertical-align: top;\n",
       "    }\n",
       "\n",
       "    .dataframe thead th {\n",
       "        text-align: right;\n",
       "    }\n",
       "</style>\n",
       "<table border=\"1\" class=\"dataframe\">\n",
       "  <thead>\n",
       "    <tr style=\"text-align: right;\">\n",
       "      <th></th>\n",
       "      <th>const</th>\n",
       "      <th>sqft_living</th>\n",
       "      <th>bedrooms</th>\n",
       "      <th>bathrooms</th>\n",
       "    </tr>\n",
       "  </thead>\n",
       "  <tbody>\n",
       "    <tr>\n",
       "      <th>0</th>\n",
       "      <td>1.0</td>\n",
       "      <td>3500</td>\n",
       "      <td>6</td>\n",
       "      <td>3.5</td>\n",
       "    </tr>\n",
       "    <tr>\n",
       "      <th>1</th>\n",
       "      <td>1.0</td>\n",
       "      <td>3000</td>\n",
       "      <td>7</td>\n",
       "      <td>4.0</td>\n",
       "    </tr>\n",
       "    <tr>\n",
       "      <th>2</th>\n",
       "      <td>1.0</td>\n",
       "      <td>4000</td>\n",
       "      <td>8</td>\n",
       "      <td>5.0</td>\n",
       "    </tr>\n",
       "  </tbody>\n",
       "</table>\n",
       "</div>"
      ],
      "text/plain": [
       "   const  sqft_living  bedrooms  bathrooms\n",
       "0    1.0         3500         6        3.5\n",
       "1    1.0         3000         7        4.0\n",
       "2    1.0         4000         8        5.0"
      ]
     },
     "execution_count": 20,
     "metadata": {},
     "output_type": "execute_result"
    }
   ],
   "source": [
    "df1=pd.DataFrame({'sqft_living':[3500,3000,4000],\n",
    "                  'bedrooms':[6,7,8],'bathrooms':[3.5,4,5]})\n",
    "df1=sm.add_constant(df1)\n",
    "df1"
   ]
  },
  {
   "cell_type": "code",
   "execution_count": 21,
   "id": "5a583180-1a51-4dd2-a97a-576e08691243",
   "metadata": {},
   "outputs": [
    {
     "data": {
      "text/plain": [
       "0    821075.547238\n",
       "1    611278.381814\n",
       "2    859620.166026\n",
       "dtype: float64"
      ]
     },
     "execution_count": 21,
     "metadata": {},
     "output_type": "execute_result"
    }
   ],
   "source": [
    "model.predict(df1)"
   ]
  },
  {
   "cell_type": "code",
   "execution_count": 18,
   "id": "94091574-d146-4b93-9ccb-df7d1f76f4b4",
   "metadata": {},
   "outputs": [
    {
     "data": {
      "text/plain": [
       "<Axes: >"
      ]
     },
     "execution_count": 18,
     "metadata": {},
     "output_type": "execute_result"
    },
    {
     "data": {
      "image/png": "[encoded data removed]",
      "text/plain": [
       "<Figure size 640x480 with 1 Axes>"
      ]
     },
     "metadata": {},
     "output_type": "display_data"
    }
   ],
   "source": [
    "data.sqft_living.hist(bins=15)\n"
   ]
  },
  {
   "cell_type": "code",
   "execution_count": 23,
   "id": "411e5446-98b9-4332-983a-26970f1be568",
   "metadata": {},
   "outputs": [
    {
     "data": {
      "text/plain": [
       "<Axes: >"
      ]
     },
     "execution_count": 23,
     "metadata": {},
     "output_type": "execute_result"
    },
    {
     "data": {
      "image/png": "[encoded data removed]",
      "text/plain": [
       "<Figure size 640x480 with 1 Axes>"
      ]
     },
     "metadata": {},
     "output_type": "display_data"
    }
   ],
   "source": [
    "data.bedrooms.hist(bins=10)\n"
   ]
  },
  {
   "cell_type": "code",
   "execution_count": 26,
   "id": "40a218b3-df86-45e8-afb6-871f4a6d1427",
   "metadata": {},
   "outputs": [
    {
     "data": {
      "text/plain": [
       "<Axes: >"
      ]
     },
     "execution_count": 26,
     "metadata": {},
     "output_type": "execute_result"
    },
    {
     "data": {
      "image/png": "[encoded data removed]",
      "text/plain": [
       "<Figure size 640x480 with 1 Axes>"
      ]
     },
     "metadata": {},
     "output_type": "display_data"
    }
   ],
   "source": [
    "data.bathrooms.hist(bins=15)\n"
   ]
  },
  {
   "cell_type": "code",
   "execution_count": 32,
   "id": "fce7027c-bac0-4cd6-b8b2-54c18ded047b",
   "metadata": {},
   "outputs": [
    {
     "data": {
      "text/plain": [
       "<Axes: >"
      ]
     },
     "execution_count": 32,
     "metadata": {},
     "output_type": "execute_result"
    },
    {
     "data": {
      "image/png": "[encoded data removed]",
      "text/plain": [
       "<Figure size 640x480 with 1 Axes>"
      ]
     },
     "metadata": {},
     "output_type": "display_data"
    }
   ],
   "source": [
    "data.flooors.hist(bins=12)\n"
   ]
  },
  {
   "cell_type": "code",
   "execution_count": 34,
   "id": "cd333254-fb99-4e06-9d96-824c4bdedaf1",
   "metadata": {},
   "outputs": [
    {
     "data": {
      "text/plain": [
       "(0.046091108180282184, 0.271108876231629)"
      ]
     },
     "execution_count": 34,
     "metadata": {},
     "output_type": "execute_result"
    }
   ],
   "source": [
    "stats,p=pearsonr(data.price,data.flooors)\n",
    "stats,p\n"
   ]
  },
  {
   "cell_type": "code",
   "execution_count": null,
   "id": "1462da24-52f6-496e-adf7-460febd39cba",
   "metadata": {},
   "outputs": [],
   "source": []
  },
  {
   "cell_type": "code",
   "execution_count": null,
   "id": "baa7fa5e-cc10-4e9d-8e42-f7aea1feb438",
   "metadata": {},
   "outputs": [],
   "source": []
  }
 ],
 "metadata": {
  "kernelspec": {
   "display_name": "Python 3 (ipykernel)",
   "language": "python",
   "name": "python3"
  },
  "language_info": {
   "codemirror_mode": {
    "name": "ipython",
    "version": 3
   },
   "file_extension": ".py",
   "mimetype": "text/x-python",
   "name": "python",
   "nbconvert_exporter": "python",
   "pygments_lexer": "ipython3",
   "version": "3.11.7"
  }
 },
 "nbformat": 4,
 "nbformat_minor": 5
}
